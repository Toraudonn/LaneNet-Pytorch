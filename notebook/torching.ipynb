{
 "cells": [
  {
   "cell_type": "markdown",
   "metadata": {},
   "source": [
    "# torch check"
   ]
  },
  {
   "cell_type": "code",
   "execution_count": 6,
   "metadata": {},
   "outputs": [],
   "source": [
    "import os\n",
    "import sys\n",
    "import torch\n",
    "import torch.nn as nn\n",
    "import torch.nn.functional as F\n",
    "import torch.optim as optim\n",
    "from torch.optim import lr_scheduler\n",
    "from torch.autograd import Variable\n",
    "import numpy as np\n",
    "import torchvision\n",
    "from torchvision import datasets, models, transforms\n",
    "import pdb"
   ]
  },
  {
   "cell_type": "code",
   "execution_count": 2,
   "metadata": {},
   "outputs": [],
   "source": [
    "# checking 3/4d matrix and \n",
    "v = torch.randn(3, 4, 5)\n",
    "v_ = v.unsqueeze(0)\n",
    "# v_.shape\n",
    "\n",
    "l = torch.randn(4, 3, 5, 5)\n",
    "l.shape[0]\n",
    "# l[2].shape\n",
    "\n",
    "var = []\n",
    "for i in range(l.shape[0]):\n",
    "    l_ = l[0].unsqueeze(0)\n",
    "    var.append(l_)\n",
    "    \n",
    "la = torch.cat(var)"
   ]
  },
  {
   "cell_type": "code",
   "execution_count": 3,
   "metadata": {},
   "outputs": [
    {
     "data": {
      "text/plain": [
       "torch.Size([4, 3, 5, 5])"
      ]
     },
     "execution_count": 3,
     "metadata": {},
     "output_type": "execute_result"
    }
   ],
   "source": [
    "la.shape"
   ]
  },
  {
   "cell_type": "code",
   "execution_count": 4,
   "metadata": {},
   "outputs": [
    {
     "name": "stdout",
     "output_type": "stream",
     "text": [
      "tensor([[[-1.0420, -0.0289, -2.1465,  0.9895, -0.0695],\n",
      "         [ 1.3130,  0.7126,  1.8388, -0.4481, -0.0978],\n",
      "         [-1.0354, -1.6544, -1.2048, -0.1286,  0.9210],\n",
      "         [-1.3598,  1.1110, -0.3359,  0.1896, -1.1506],\n",
      "         [ 0.5437,  0.5690,  0.0077,  0.2840,  0.4576]],\n",
      "\n",
      "        [[-0.1162,  0.1088,  1.8111, -0.3237, -0.7951],\n",
      "         [ 0.8977, -0.8446, -0.6297, -0.7065,  0.3885],\n",
      "         [-0.9309, -0.2669,  0.1507, -1.4785, -1.1385],\n",
      "         [-0.1821,  1.4161,  0.9808,  0.6285, -0.8624],\n",
      "         [-0.5708, -0.6469, -0.3995,  1.5150,  0.3257]],\n",
      "\n",
      "        [[-0.5510, -0.8328,  0.0293, -0.5411,  0.4935],\n",
      "         [ 1.4119, -0.3021, -2.2915, -0.1624,  0.7817],\n",
      "         [ 1.4616,  1.5420, -0.1897, -0.1432,  0.3640],\n",
      "         [-0.5863,  1.3035,  0.7899, -0.4067, -2.3846],\n",
      "         [ 0.2948,  0.0085, -2.2882,  0.7795, -0.3190]]])\n"
     ]
    },
    {
     "data": {
      "text/plain": [
       "tensor([-1.0420, -0.0289, -2.1465,  0.9895, -0.0695,  1.3130,  0.7126,  1.8388,\n",
       "        -0.4481, -0.0978, -1.0354, -1.6544, -1.2048, -0.1286,  0.9210, -1.3598,\n",
       "         1.1110, -0.3359,  0.1896, -1.1506,  0.5437,  0.5690,  0.0077,  0.2840,\n",
       "         0.4576, -0.1162,  0.1088,  1.8111, -0.3237, -0.7951,  0.8977, -0.8446,\n",
       "        -0.6297, -0.7065,  0.3885, -0.9309, -0.2669,  0.1507, -1.4785, -1.1385,\n",
       "        -0.1821,  1.4161,  0.9808,  0.6285, -0.8624, -0.5708, -0.6469, -0.3995,\n",
       "         1.5150,  0.3257, -0.5510, -0.8328,  0.0293, -0.5411,  0.4935,  1.4119,\n",
       "        -0.3021, -2.2915, -0.1624,  0.7817,  1.4616,  1.5420, -0.1897, -0.1432,\n",
       "         0.3640, -0.5863,  1.3035,  0.7899, -0.4067, -2.3846,  0.2948,  0.0085,\n",
       "        -2.2882,  0.7795, -0.3190])"
      ]
     },
     "execution_count": 4,
     "metadata": {},
     "output_type": "execute_result"
    }
   ],
   "source": [
    "print(la[0])\n",
    "la[0].view([3*5*5])"
   ]
  },
  {
   "cell_type": "code",
   "execution_count": 5,
   "metadata": {},
   "outputs": [],
   "source": [
    "h, j = torch.unique(l[0], sorted=True, return_inverse=True)"
   ]
  },
  {
   "cell_type": "code",
   "execution_count": 6,
   "metadata": {},
   "outputs": [],
   "source": [
    "a = torch.tensor([10, 5, 3, 0, 4, 5, 4, 5, 5, 3, 2, 1])\n",
    "a_ = torch.tensor([[9, 4, 3, 0, 3, 5, 3, 5, 6, 3, 2, 1], [8, 3, 3, 0, 3, 5, 3, 5, 7, 3, 1, 1]], dtype=torch.float32)"
   ]
  },
  {
   "cell_type": "code",
   "execution_count": 7,
   "metadata": {},
   "outputs": [],
   "source": [
    "unique_labels, unique_id = torch.unique(a, sorted=True, return_inverse=True)"
   ]
  },
  {
   "cell_type": "code",
   "execution_count": 8,
   "metadata": {},
   "outputs": [
    {
     "data": {
      "text/plain": [
       "tensor([ 0,  1,  2,  3,  4,  5, 10])"
      ]
     },
     "execution_count": 8,
     "metadata": {},
     "output_type": "execute_result"
    }
   ],
   "source": [
    "unique_labels"
   ]
  },
  {
   "cell_type": "code",
   "execution_count": 9,
   "metadata": {},
   "outputs": [
    {
     "data": {
      "text/plain": [
       "tensor([6, 5, 3, 0, 4, 5, 4, 5, 5, 3, 2, 1])"
      ]
     },
     "execution_count": 9,
     "metadata": {},
     "output_type": "execute_result"
    }
   ],
   "source": [
    "unique_id"
   ]
  },
  {
   "cell_type": "code",
   "execution_count": 10,
   "metadata": {},
   "outputs": [],
   "source": [
    "labels, counts = np.unique(unique_id, return_counts=True)"
   ]
  },
  {
   "cell_type": "code",
   "execution_count": 11,
   "metadata": {},
   "outputs": [
    {
     "name": "stdout",
     "output_type": "stream",
     "text": [
      "[0 1 2 3 4 5 6] [1 1 1 2 2 4 1]\n"
     ]
    },
    {
     "data": {
      "text/plain": [
       "7"
      ]
     },
     "execution_count": 11,
     "metadata": {},
     "output_type": "execute_result"
    }
   ],
   "source": [
    "print(labels, counts)\n",
    "len(counts)"
   ]
  },
  {
   "cell_type": "code",
   "execution_count": 5,
   "metadata": {},
   "outputs": [
    {
     "data": {
      "text/plain": [
       "tensor([[ 4., 18.],\n",
       "        [13.,  9.]])"
      ]
     },
     "execution_count": 5,
     "metadata": {},
     "output_type": "execute_result"
    }
   ],
   "source": [
    "# segmented sum:\n",
    "\n",
    "index = torch.tensor([[1, 0, 1, 1, 0, 1], [1, 1, 0, 0, 1, 0]])\n",
    "data = torch.tensor([[5., 1., 7., 2., 3., 4.], [5., 1., 7., 2., 3., 4.]])\n",
    "\n",
    "torch.zeros(2, 2).scatter_add(1, index, data)"
   ]
  },
  {
   "cell_type": "code",
   "execution_count": 13,
   "metadata": {},
   "outputs": [
    {
     "name": "stdout",
     "output_type": "stream",
     "text": [
      "torch.Size([12])\n",
      "torch.Size([2, 12])\n",
      "7\n",
      "tensor([[6, 5, 3, 0, 4, 5, 4, 5, 5, 3, 2, 1],\n",
      "        [6, 5, 3, 0, 4, 5, 4, 5, 5, 3, 2, 1]])\n"
     ]
    }
   ],
   "source": [
    "print(unique_id.shape)\n",
    "print(a_.shape)\n",
    "print(len(counts))\n",
    "print(unique_id.repeat([2,1]))\n",
    "segmented_sum = torch.zeros(2, len(counts)).scatter_add(1, unique_id.repeat([2,1]), a_)"
   ]
  },
  {
   "cell_type": "code",
   "execution_count": 14,
   "metadata": {},
   "outputs": [
    {
     "name": "stdout",
     "output_type": "stream",
     "text": [
      "seg sum tensor([[ 0.,  1.,  2.,  6.,  6., 20.,  9.],\n",
      "        [ 0.,  1.,  1.,  6.,  6., 20.,  8.]])\n",
      "counts  tensor([1., 1., 1., 2., 2., 4., 1.])\n",
      "normalized  tensor([[0., 1., 2., 3., 3., 5., 9.],\n",
      "        [0., 1., 1., 3., 3., 5., 8.]])\n"
     ]
    }
   ],
   "source": [
    "a_count = torch.tensor(counts, dtype=torch.float32)\n",
    "# a_count = a_count.view(-1, 1)\n",
    "print('seg sum', segmented_sum)\n",
    "print('counts ', a_count)\n",
    "mu = torch.div(segmented_sum, a_count)\n",
    "print('normalized ', mu)"
   ]
  },
  {
   "cell_type": "code",
   "execution_count": 15,
   "metadata": {},
   "outputs": [
    {
     "name": "stdout",
     "output_type": "stream",
     "text": [
      "ids  tensor([6, 5, 3, 0, 4, 5, 4, 5, 5, 3, 2, 1])\n",
      "mu  tensor([[0., 1., 2., 3., 3., 5., 9.],\n",
      "        [0., 1., 1., 3., 3., 5., 8.]])\n"
     ]
    },
    {
     "data": {
      "text/plain": [
       "tensor([[9., 5., 3., 0., 3., 5., 3., 5., 5., 3., 2., 1.],\n",
       "        [8., 5., 3., 0., 3., 5., 3., 5., 5., 3., 1., 1.]])"
      ]
     },
     "execution_count": 15,
     "metadata": {},
     "output_type": "execute_result"
    }
   ],
   "source": [
    "print('ids ', unique_id)\n",
    "print('mu ', mu)\n",
    "mu_expand = torch.gather(mu, 1, unique_id.repeat([2,1]))\n",
    "mu_expand"
   ]
  },
  {
   "cell_type": "code",
   "execution_count": 16,
   "metadata": {},
   "outputs": [
    {
     "name": "stdout",
     "output_type": "stream",
     "text": [
      "tensor([[ 0.,  1.,  0.,  0.,  0.,  0.,  0.,  0., -1.,  0.,  0.,  0.],\n",
      "        [ 0.,  2.,  0.,  0.,  0.,  0.,  0.,  0., -2.,  0.,  0.,  0.]])\n"
     ]
    },
    {
     "data": {
      "text/plain": [
       "tensor([0.0000, 2.2361, 0.0000, 0.0000, 0.0000, 0.0000, 0.0000, 0.0000, 2.2361,\n",
       "        0.0000, 0.0000, 0.0000])"
      ]
     },
     "execution_count": 16,
     "metadata": {},
     "output_type": "execute_result"
    }
   ],
   "source": [
    "print(mu_expand-a_)\n",
    "distance = (mu_expand - a_).norm(dim=0)\n",
    "# distance = torch.norm(mu_expand - a_, 2, -1)\n",
    "distance"
   ]
  },
  {
   "cell_type": "code",
   "execution_count": 17,
   "metadata": {},
   "outputs": [
    {
     "data": {
      "text/plain": [
       "tensor([-0.0300,  2.2061, -0.0300, -0.0300, -0.0300, -0.0300, -0.0300, -0.0300,\n",
       "         2.2061, -0.0300, -0.0300, -0.0300])"
      ]
     },
     "execution_count": 17,
     "metadata": {},
     "output_type": "execute_result"
    }
   ],
   "source": [
    "delta_v = 0.03\n",
    "distance -= torch.tensor(delta_v, dtype=torch.float32)\n",
    "distance"
   ]
  },
  {
   "cell_type": "code",
   "execution_count": 18,
   "metadata": {},
   "outputs": [
    {
     "data": {
      "text/plain": [
       "tensor([0.0000, 2.2061, 0.0000, 0.0000, 0.0000, 0.0000, 0.0000, 0.0000, 2.2061,\n",
       "        0.0000, 0.0000, 0.0000])"
      ]
     },
     "execution_count": 18,
     "metadata": {},
     "output_type": "execute_result"
    }
   ],
   "source": [
    "distance = torch.clamp(distance, min=0.)\n",
    "distance "
   ]
  },
  {
   "cell_type": "code",
   "execution_count": 19,
   "metadata": {},
   "outputs": [
    {
     "data": {
      "text/plain": [
       "tensor([0.0000, 4.8667, 0.0000, 0.0000, 0.0000, 0.0000, 0.0000, 0.0000, 4.8667,\n",
       "        0.0000, 0.0000, 0.0000])"
      ]
     },
     "execution_count": 19,
     "metadata": {},
     "output_type": "execute_result"
    }
   ],
   "source": [
    "distance = distance.pow(2)\n",
    "distance"
   ]
  },
  {
   "cell_type": "code",
   "execution_count": 20,
   "metadata": {},
   "outputs": [
    {
     "data": {
      "text/plain": [
       "tensor([0.0000, 0.0000, 0.0000, 0.0000, 0.0000, 9.7335, 0.0000])"
      ]
     },
     "execution_count": 20,
     "metadata": {},
     "output_type": "execute_result"
    }
   ],
   "source": [
    "l_var = torch.zeros(len(counts)).scatter_add(0, unique_id, distance)\n",
    "l_var"
   ]
  },
  {
   "cell_type": "code",
   "execution_count": 21,
   "metadata": {},
   "outputs": [
    {
     "data": {
      "text/plain": [
       "tensor([0.0000, 0.0000, 0.0000, 0.0000, 0.0000, 2.4334, 0.0000])"
      ]
     },
     "execution_count": 21,
     "metadata": {},
     "output_type": "execute_result"
    }
   ],
   "source": [
    "l_var = torch.div(l_var, torch.tensor(counts, dtype=torch.float32))\n",
    "l_var"
   ]
  },
  {
   "cell_type": "code",
   "execution_count": 22,
   "metadata": {},
   "outputs": [
    {
     "data": {
      "text/plain": [
       "tensor(0.3476)"
      ]
     },
     "execution_count": 22,
     "metadata": {},
     "output_type": "execute_result"
    }
   ],
   "source": [
    "l_var = l_var.sum()\n",
    "l_var = torch.div(l_var, len(counts))\n",
    "l_var"
   ]
  },
  {
   "cell_type": "code",
   "execution_count": 23,
   "metadata": {},
   "outputs": [
    {
     "data": {
      "text/plain": [
       "tensor([[ 0.,  0.,  1.,  0.,  0.,  0.,  1.],\n",
       "        [ 0.,  0., -1.,  0.,  0.,  0., -1.]])"
      ]
     },
     "execution_count": 23,
     "metadata": {},
     "output_type": "execute_result"
    }
   ],
   "source": [
    "feature_dim = 2\n",
    "num_instances = len(counts)\n",
    "mu_diff = []\n",
    "\n",
    "# think of a better way to do this:\n",
    "for i in range(feature_dim):\n",
    "    for j in range(feature_dim):\n",
    "        if i != j:\n",
    "            diff = mu[i] - mu[j]\n",
    "            mu_diff.append(diff.unsqueeze(0))\n",
    "            \n",
    "mu_diff = torch.cat(mu_diff)\n",
    "mu_diff"
   ]
  },
  {
   "cell_type": "code",
   "execution_count": 24,
   "metadata": {},
   "outputs": [
    {
     "data": {
      "text/plain": [
       "tensor([1.4142, 1.4142])"
      ]
     },
     "execution_count": 24,
     "metadata": {},
     "output_type": "execute_result"
    }
   ],
   "source": [
    "mu_norm = mu_diff.norm(dim=1)\n",
    "mu_norm"
   ]
  },
  {
   "cell_type": "code",
   "execution_count": 25,
   "metadata": {},
   "outputs": [
    {
     "data": {
      "text/plain": [
       "tensor([4.5858, 4.5858])"
      ]
     },
     "execution_count": 25,
     "metadata": {},
     "output_type": "execute_result"
    }
   ],
   "source": [
    "delta_d = 3\n",
    "mu_norm = (2. * delta_d - mu_norm)\n",
    "mu_norm"
   ]
  },
  {
   "cell_type": "code",
   "execution_count": 26,
   "metadata": {},
   "outputs": [
    {
     "data": {
      "text/plain": [
       "tensor([21.0294, 21.0294])"
      ]
     },
     "execution_count": 26,
     "metadata": {},
     "output_type": "execute_result"
    }
   ],
   "source": [
    "mu_norm = torch.clamp(mu_norm, min=0.)\n",
    "mu_norm = mu_norm.pow(2)\n",
    "mu_norm"
   ]
  },
  {
   "cell_type": "code",
   "execution_count": 27,
   "metadata": {},
   "outputs": [
    {
     "data": {
      "text/plain": [
       "tensor(21.0294)"
      ]
     },
     "execution_count": 27,
     "metadata": {},
     "output_type": "execute_result"
    }
   ],
   "source": [
    "l_dist = mu_norm.mean()\n",
    "l_dist"
   ]
  },
  {
   "cell_type": "code",
   "execution_count": 28,
   "metadata": {},
   "outputs": [
    {
     "name": "stdout",
     "output_type": "stream",
     "text": [
      "tensor([11.3578, 10.4403])\n",
      "tensor(10.8991)\n"
     ]
    },
    {
     "data": {
      "text/plain": [
       "tensor(10.8991)"
      ]
     },
     "execution_count": 28,
     "metadata": {},
     "output_type": "execute_result"
    }
   ],
   "source": [
    "print(mu.norm(dim=1))\n",
    "print(mu.norm(dim=1).mean())\n",
    "\n",
    "l_reg = mu.norm(dim=1).mean()\n",
    "l_reg"
   ]
  },
  {
   "cell_type": "code",
   "execution_count": 8,
   "metadata": {},
   "outputs": [
    {
     "data": {
      "text/plain": [
       "tensor([[[0.2103, 0.6407, 0.3877],\n",
       "         [0.3804, 0.2378, 0.3120],\n",
       "         [0.0834, 0.4177, 0.7638],\n",
       "         [0.0047, 0.0564, 0.7449]],\n",
       "\n",
       "        [[0.2804, 0.9321, 0.6239],\n",
       "         [0.4657, 0.4062, 0.2496],\n",
       "         [0.3264, 0.3163, 0.2057],\n",
       "         [0.9288, 0.8117, 0.4001]],\n",
       "\n",
       "        [[0.9084, 0.9216, 0.5634],\n",
       "         [0.9860, 0.6610, 0.9696],\n",
       "         [0.7705, 0.9141, 0.8344],\n",
       "         [0.6839, 0.1700, 0.2007]]])"
      ]
     },
     "execution_count": 8,
     "metadata": {},
     "output_type": "execute_result"
    }
   ],
   "source": [
    "a = torch.rand(3, 4, 3)\n",
    "a"
   ]
  },
  {
   "cell_type": "code",
   "execution_count": 9,
   "metadata": {},
   "outputs": [
    {
     "data": {
      "text/plain": [
       "tensor([[0.2804, 0.9321, 0.6239],\n",
       "        [0.4657, 0.4062, 0.2496],\n",
       "        [0.3264, 0.3163, 0.2057],\n",
       "        [0.9288, 0.8117, 0.4001]])"
      ]
     },
     "execution_count": 9,
     "metadata": {},
     "output_type": "execute_result"
    }
   ],
   "source": [
    "a[1]"
   ]
  },
  {
   "cell_type": "code",
   "execution_count": null,
   "metadata": {},
   "outputs": [],
   "source": []
  }
 ],
 "metadata": {
  "kernelspec": {
   "display_name": "Python 3",
   "language": "python",
   "name": "python3"
  },
  "language_info": {
   "codemirror_mode": {
    "name": "ipython",
    "version": 3
   },
   "file_extension": ".py",
   "mimetype": "text/x-python",
   "name": "python",
   "nbconvert_exporter": "python",
   "pygments_lexer": "ipython3",
   "version": "3.6.5"
  }
 },
 "nbformat": 4,
 "nbformat_minor": 2
}
