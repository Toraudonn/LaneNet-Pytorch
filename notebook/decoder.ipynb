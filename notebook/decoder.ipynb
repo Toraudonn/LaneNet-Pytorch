{
 "cells": [
  {
   "cell_type": "code",
   "execution_count": 1,
   "metadata": {},
   "outputs": [],
   "source": [
    "import os\n",
    "import sys\n",
    "import torch"
   ]
  },
  {
   "cell_type": "code",
   "execution_count": 6,
   "metadata": {},
   "outputs": [],
   "source": [
    "# supporting:\n",
    "\n",
    "sys.path.insert(0,'..')\n",
    "from config import global_config\n",
    "from dataset import LaneNetDataset\n",
    "from model import vgg_encoder"
   ]
  },
  {
   "cell_type": "code",
   "execution_count": 3,
   "metadata": {},
   "outputs": [],
   "source": [
    "# variables:\n",
    "\n",
    "TRAIN_FILE = '/home/ubuntu/dev/LaneNet-Pytorch/data/training_data/train.txt'\n",
    "CFG = global_config.cfg"
   ]
  },
  {
   "cell_type": "code",
   "execution_count": 4,
   "metadata": {},
   "outputs": [
    {
     "name": "stdout",
     "output_type": "stream",
     "text": [
      "3626\n"
     ]
    }
   ],
   "source": [
    "dataset = LaneNetDataset(TRAIN_FILE, CFG)\n",
    "print(len(dataset))"
   ]
  },
  {
   "cell_type": "code",
   "execution_count": 5,
   "metadata": {},
   "outputs": [],
   "source": [
    "import torch.nn as nn\n",
    "import torch.nn.functional as F\n",
    "import torch.optim as optim\n",
    "from torch.optim import lr_scheduler\n",
    "from torch.autograd import Variable\n",
    "import numpy as np\n",
    "import torchvision\n",
    "from torchvision import datasets, models, transforms"
   ]
  },
  {
   "cell_type": "code",
   "execution_count": 11,
   "metadata": {},
   "outputs": [],
   "source": [
    "inputs = next(iter(dataset))  # (src, binary, instance)\n",
    "\n",
    "normalize = transforms.Normalize(\n",
    "    mean=[0.485, 0.456, 0.406],\n",
    "    std=[0.229, 0.224, 0.225])\n",
    "preprocess = transforms.Compose([\n",
    "    transforms.ToTensor(),\n",
    "    normalize])\n",
    "\n",
    "# preprocess images\n",
    "src_tensor = preprocess(inputs[0])\n",
    "src_tensor = src_tensor.unsqueeze(0).cuda()\n",
    "\n",
    "vgg = vgg_encoder.VGGEncoder().cuda()"
   ]
  },
  {
   "cell_type": "code",
   "execution_count": 72,
   "metadata": {},
   "outputs": [],
   "source": [
    "class FCNDecoder(nn.Module):\n",
    "    \n",
    "    def __init__(self, input_channel=512):\n",
    "        super(FCNDecoder, self).__init__()\n",
    "        \n",
    "        self.conv1 = nn.Conv2d(input_channel, 64, kernel_size=1, bias=False)\n",
    "        self.deconv1 = nn.ConvTranspose2d(64, 64, kernel_size=2, stride=2, bias=False)\n",
    "        self.conv2 = nn.Conv2d(input_channel, 64, kernel_size=1, bias=False)\n",
    "        self.deconv2 = nn.ConvTranspose2d(64, 64, kernel_size=2, stride=2, bias=False)\n",
    "        self.conv3 = nn.Conv2d(input_channel//2, 64, kernel_size=1, bias=False)\n",
    "        self.deconv3 = nn.ConvTranspose2d(64, 64, kernel_size=8, stride=8, bias=False)\n",
    "        self.conv4 = nn.Conv2d(64, 2, kernel_size=1, bias=False)\n",
    "        \n",
    "        self.train()\n",
    "        \n",
    "    def forward(self, tensor_dict):\n",
    "        \n",
    "        x = tensor_dict['pool5']\n",
    "        score = self.conv1(x)\n",
    "        \n",
    "        deconv = self.deconv1(score)\n",
    "        x = tensor_dict['pool4']\n",
    "        score = self.conv2(x)\n",
    "        \n",
    "        score = torch.add(deconv, score)\n",
    "        \n",
    "        deconv = self.deconv2(score)\n",
    "        x = tensor_dict['pool3']\n",
    "        score = self.conv3(x)\n",
    "        \n",
    "        score = torch.add(deconv, score)\n",
    "        \n",
    "        deconv_final = self.deconv3(score)\n",
    "        score_final = self.conv4(deconv_final)\n",
    "        \n",
    "        return (score_final, deconv_final)"
   ]
  },
  {
   "cell_type": "code",
   "execution_count": 73,
   "metadata": {},
   "outputs": [],
   "source": [
    "output = vgg(src_tensor)"
   ]
  },
  {
   "cell_type": "code",
   "execution_count": 74,
   "metadata": {},
   "outputs": [],
   "source": [
    "fcn = FCNDecoder().cuda()"
   ]
  },
  {
   "cell_type": "code",
   "execution_count": 75,
   "metadata": {},
   "outputs": [
    {
     "name": "stdout",
     "output_type": "stream",
     "text": [
      "torch.Size([1, 64, 32, 64])\n",
      "torch.Size([1, 64, 32, 64])\n"
     ]
    }
   ],
   "source": [
    "score_final, deconv_final = fcn.forward(output)"
   ]
  },
  {
   "cell_type": "code",
   "execution_count": 87,
   "metadata": {},
   "outputs": [
    {
     "name": "stdout",
     "output_type": "stream",
     "text": [
      "torch.Size([1, 2, 256, 512])\n",
      "torch.Size([1, 64, 256, 512])\n"
     ]
    }
   ],
   "source": [
    "print(score_final.shape)  # binary segmentation\n",
    "print(deconv_final.shape)  # embedding\n",
    "\n",
    "# checked that the size is back to the original image sizes"
   ]
  },
  {
   "cell_type": "code",
   "execution_count": 84,
   "metadata": {},
   "outputs": [],
   "source": [
    "score = score_final.cpu().data.numpy()"
   ]
  },
  {
   "cell_type": "code",
   "execution_count": null,
   "metadata": {},
   "outputs": [],
   "source": []
  }
 ],
 "metadata": {
  "kernelspec": {
   "display_name": "Python 3",
   "language": "python",
   "name": "python3"
  },
  "language_info": {
   "codemirror_mode": {
    "name": "ipython",
    "version": 3
   },
   "file_extension": ".py",
   "mimetype": "text/x-python",
   "name": "python",
   "nbconvert_exporter": "python",
   "pygments_lexer": "ipython3",
   "version": "3.6.5"
  }
 },
 "nbformat": 4,
 "nbformat_minor": 2
}
