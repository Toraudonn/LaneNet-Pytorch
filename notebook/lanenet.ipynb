{
 "cells": [
  {
   "cell_type": "code",
   "execution_count": 1,
   "metadata": {},
   "outputs": [],
   "source": [
    "import os\n",
    "import sys\n",
    "import torch\n",
    "import torch.nn as nn\n",
    "import torch.nn.functional as F\n",
    "import torch.optim as optim\n",
    "from torch.optim import lr_scheduler\n",
    "from torch.autograd import Variable\n",
    "import numpy as np\n",
    "import torchvision\n",
    "from torchvision import datasets, models, transforms\n",
    "\n",
    "# supporting:\n",
    "\n",
    "sys.path.insert(0,'..')\n",
    "from config import global_config\n",
    "from dataset import LaneNetDataset\n",
    "from model import vgg_encoder\n",
    "from model import fcn_decoder"
   ]
  },
  {
   "cell_type": "markdown",
   "metadata": {},
   "source": [
    "Mainly loss calculation and inference function"
   ]
  },
  {
   "cell_type": "code",
   "execution_count": null,
   "metadata": {},
   "outputs": [],
   "source": [
    "class LaneNet:\n",
    "    \n",
    "    def __init__(self):\n",
    "        self.encoder = vgg_encoder.VGGEncoder()\n",
    "        self.decoder = fcn_decoder.FCNDecoder()\n",
    "        \n",
    "    def calc_loss(self, src, binary, instance):\n",
    "        \n",
    "        # preprocess src image:\n",
    "        \n",
    "    \n",
    "    def _preprocess_image(self, img):\n",
    "        normalize = transforms.Normalize(\n",
    "            mean=[0.485, 0.456, 0.406],\n",
    "            std=[0.229, 0.224, 0.225])\n",
    "        preprocess = transforms.Compose([\n",
    "            transforms.ToTensor(),\n",
    "            normalize])\n",
    "        src_tensor = preprocess(inputs[0])"
   ]
  }
 ],
 "metadata": {
  "kernelspec": {
   "display_name": "Python 3",
   "language": "python",
   "name": "python3"
  },
  "language_info": {
   "codemirror_mode": {
    "name": "ipython",
    "version": 3
   },
   "file_extension": ".py",
   "mimetype": "text/x-python",
   "name": "python",
   "nbconvert_exporter": "python",
   "pygments_lexer": "ipython3",
   "version": "3.6.5"
  }
 },
 "nbformat": 4,
 "nbformat_minor": 2
}
